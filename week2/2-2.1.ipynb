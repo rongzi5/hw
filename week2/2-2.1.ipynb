{
 "cells": [
  {
   "metadata": {},
   "cell_type": "markdown",
   "source": "实现图像浮雕，卷积核大小为3,5",
   "id": "c772dd443f30725e"
  },
  {
   "metadata": {
    "ExecuteTime": {
     "end_time": "2024-09-02T13:06:35.445235Z",
     "start_time": "2024-09-02T13:06:16.630396Z"
    }
   },
   "cell_type": "code",
   "source": [
    "import cv2\n",
    "import numpy as np\n",
    "from matplotlib import pyplot as plt\n",
    "\n",
    "# 初始化方向和大小\n",
    "direction = 1\n",
    "filter_size = 2\n",
    "# 读取图像\n",
    "src_img = cv2.imread('./input/apple.jpg')\n",
    "\n",
    "def update_img(val):\n",
    "    global direction, filter_size, src_img\n",
    "    direction = cv2.getTrackbarPos('Direction', 'image')\n",
    "    filter_size = cv2.getTrackbarPos('Filter Size', 'image')\n",
    "    \n",
    "    # 定义不同 size 下的卷积核方向\n",
    "    filter_3 = [np.array([[0, -1, -1], [1, 0, -1], [1, 1, 0]]), \n",
    "                np.array([[-1, -1, 0], [-1, 0, 1], [0, 1, 1]]), \n",
    "                np.array([[1, 1, 0], [1, 0, -1], [0, -1, -1]]), \n",
    "                np.array([[-1, -1, 0], [-1, 0, 1], [0, 1, 1]])]\n",
    "    \n",
    "    filter_5 = [np.array([[0,-1,-1,-1,-1],[1,0,-1,-1,-1],[1,1,0,-1,-1],[1,1,1,0,-1],[1,1,1,1,0]]),\n",
    "                np.array([[-1,-1,-1,-1,0],[-1,-1,-1,0,1],[-1,-1,0,1,1],[-1,0,1,1,1],[0,1,1,1,1]]),\n",
    "                np.array([[1,1,1,1,0],[1,1,1,0,-1],[1,1,0,-1,-1],[1,0,-1,-1,-1],[0,-1,-1,-1,-1]]),\n",
    "                np.array([[-1,-1,-1,-1,0],[-1,-1,-1,0,1],[-1,-1,0,1,1],[-1,0,1,1,1],[0,1,1,1,1]])]\n",
    "    \n",
    "    # 提取卷积核\n",
    "    if filter_size == 3:\n",
    "        filter_result = filter_3[direction]\n",
    "    elif filter_size == 5:\n",
    "        filter_result = filter_5[direction]\n",
    "    else:\n",
    "        filter_result = np.array([[1]])  # 默认为 1x1 的卷积核\n",
    "    \n",
    "    # 处理图像\n",
    "    new_img = img_filter(src_img, filter_result)\n",
    "    \n",
    "    # 将单通道图像转换成多通道图像，以便拼接\n",
    "    new_img = cv2.cvtColor(new_img, cv2.COLOR_GRAY2BGR)\n",
    "    compare = np.hstack((src_img, new_img))\n",
    "    \n",
    "    # 显示更新后的图像\n",
    "    cv2.imshow('image', compare)\n",
    "\n",
    "def img_filter(src_img, filter):\n",
    "    gray_img = cv2.cvtColor(src_img, cv2.COLOR_BGR2GRAY)\n",
    "    new_img = cv2.filter2D(gray_img, -1, filter)+128\n",
    "    return new_img\n",
    "\n",
    "cv2.namedWindow('image', cv2.WINDOW_NORMAL)\n",
    "cv2.createTrackbar('Filter Size', 'image', filter_size, 5, update_img)\n",
    "cv2.createTrackbar('Direction', 'image', direction, 3, update_img)\n",
    "\n",
    "cv2.waitKey(0)\n",
    "cv2.destroyAllWindows()\n"
   ],
   "id": "33cbc5d8a1bb8ebe",
   "outputs": [
    {
     "ename": "error",
     "evalue": "OpenCV(4.10.0) D:\\a\\opencv-python\\opencv-python\\opencv\\modules\\highgui\\src\\window.cpp:868: error: (-215:Assertion failed) trackbar in function 'cv::getTrackbarPos'\n",
     "output_type": "error",
     "traceback": [
      "\u001B[1;31m---------------------------------------------------------------------------\u001B[0m",
      "\u001B[1;31merror\u001B[0m                                     Traceback (most recent call last)",
      "Cell \u001B[1;32mIn[6], line 13\u001B[0m, in \u001B[0;36mupdate_img\u001B[1;34m(val)\u001B[0m\n\u001B[0;32m     11\u001B[0m \u001B[38;5;28;01mdef\u001B[39;00m \u001B[38;5;21mupdate_img\u001B[39m(val):\n\u001B[0;32m     12\u001B[0m     \u001B[38;5;28;01mglobal\u001B[39;00m direction, filter_size, src_img\n\u001B[1;32m---> 13\u001B[0m     direction \u001B[38;5;241m=\u001B[39m \u001B[43mcv2\u001B[49m\u001B[38;5;241;43m.\u001B[39;49m\u001B[43mgetTrackbarPos\u001B[49m\u001B[43m(\u001B[49m\u001B[38;5;124;43m'\u001B[39;49m\u001B[38;5;124;43mDirection\u001B[39;49m\u001B[38;5;124;43m'\u001B[39;49m\u001B[43m,\u001B[49m\u001B[43m \u001B[49m\u001B[38;5;124;43m'\u001B[39;49m\u001B[38;5;124;43mimage\u001B[39;49m\u001B[38;5;124;43m'\u001B[39;49m\u001B[43m)\u001B[49m\n\u001B[0;32m     14\u001B[0m     filter_size \u001B[38;5;241m=\u001B[39m cv2\u001B[38;5;241m.\u001B[39mgetTrackbarPos(\u001B[38;5;124m'\u001B[39m\u001B[38;5;124mFilter Size\u001B[39m\u001B[38;5;124m'\u001B[39m, \u001B[38;5;124m'\u001B[39m\u001B[38;5;124mimage\u001B[39m\u001B[38;5;124m'\u001B[39m)\n\u001B[0;32m     16\u001B[0m     \u001B[38;5;66;03m# 定义不同 size 下的卷积核方向\u001B[39;00m\n",
      "\u001B[1;31merror\u001B[0m: OpenCV(4.10.0) D:\\a\\opencv-python\\opencv-python\\opencv\\modules\\highgui\\src\\window.cpp:868: error: (-215:Assertion failed) trackbar in function 'cv::getTrackbarPos'\n"
     ]
    }
   ],
   "execution_count": 6
  },
  {
   "metadata": {},
   "cell_type": "markdown",
   "source": "用多种方法生成草图",
   "id": "55102f739ea82a04"
  },
  {
   "metadata": {
    "ExecuteTime": {
     "end_time": "2024-09-02T12:34:42.652478Z",
     "start_time": "2024-09-02T12:34:35.473987Z"
    }
   },
   "cell_type": "code",
   "source": [
    "src_img1 = cv2.imread('./input/apple.jpg')\n",
    "\n",
    "def generate_sketch(val):\n",
    "    global src_img1\n",
    "    if val == 0:\n",
    "        gray_img = cv2.cvtColor(src_img1, cv2.COLOR_BGR2GRAY)\n",
    "        anti_gray_img = 255-gray_img\n",
    "        blur_img = cv2.GaussianBlur(anti_gray_img,(49,49),0)\n",
    "        inverted_blur_img = 255-blur_img\n",
    "        dst_sketch = cv2.divide(gray_img, inverted_blur_img, scale=256.0)\n",
    "    elif val == 1:\n",
    "        dst_sketch,dst_color = cv2.pencilSketch(src_img1, sigma_s=60, sigma_r=0.07, shade_factor=0.05)\n",
    "    else:\n",
    "        gray_img = cv2.cvtColor(src_img1, cv2.COLOR_BGR2GRAY)\n",
    "        gray_img = cv2.medianBlur(gray_img,7)\n",
    "        edges = cv2.Laplacian(gray_img, cv2.CV_8U ,ksize=5)\n",
    "        ret, mask = cv2.threshold(edges, 100, 255, cv2.THRESH_BINARY_INV)\n",
    "        dst_sketch = mask\n",
    "    sketch_img = cv2.cvtColor(dst_sketch, cv2.COLOR_GRAY2BGR)\n",
    "    result = np.hstack((src_img1, sketch_img))\n",
    "    cv2.imshow('image', result)\n",
    "\n",
    "cv2.namedWindow('image', cv2.WINDOW_NORMAL)\n",
    "cv2.createTrackbar('Direction', 'image', 1, 2, generate_sketch)\n",
    "cv2.waitKey(0)\n",
    "cv2.destroyAllWindows()\n",
    "    "
   ],
   "id": "14b5072a0be17ca3",
   "outputs": [],
   "execution_count": 2
  },
  {
   "metadata": {},
   "cell_type": "code",
   "outputs": [],
   "execution_count": null,
   "source": "",
   "id": "45e6e4cb0bc770a9"
  }
 ],
 "metadata": {
  "kernelspec": {
   "display_name": "Python 3",
   "language": "python",
   "name": "python3"
  },
  "language_info": {
   "codemirror_mode": {
    "name": "ipython",
    "version": 2
   },
   "file_extension": ".py",
   "mimetype": "text/x-python",
   "name": "python",
   "nbconvert_exporter": "python",
   "pygments_lexer": "ipython2",
   "version": "2.7.6"
  }
 },
 "nbformat": 4,
 "nbformat_minor": 5
}
