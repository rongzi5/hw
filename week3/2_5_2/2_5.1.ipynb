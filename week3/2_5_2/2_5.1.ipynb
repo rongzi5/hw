{
 "cells": [
  {
   "cell_type": "markdown",
   "id": "4a418c1c",
   "metadata": {},
   "source": [
    "### 1. 沿着曲线插入文字\n",
    "\n",
    "沿着图中彩虹的曲线边缘插入用中文写的一句话"
   ]
  },
  {
   "cell_type": "markdown",
   "id": "008192af",
   "metadata": {},
   "source": [
    "**预处理**：导入 *PIL* 库，以便在图像中显示中文"
   ]
  },
  {
   "cell_type": "code",
   "id": "1be40726",
   "metadata": {
    "ExecuteTime": {
     "end_time": "2024-09-10T13:07:18.711115Z",
     "start_time": "2024-09-10T13:07:18.689119Z"
    }
   },
   "source": [
    "import cv2\n",
    "import numpy as np\n",
    "from PIL import Image, ImageDraw, ImageFont\n",
    "# 读取彩虹图像\n",
    "image = cv2.imread('rainbow_1.jpg')"
   ],
   "outputs": [],
   "execution_count": 143
  },
  {
   "cell_type": "markdown",
   "id": "3f2ac8d3",
   "metadata": {},
   "source": [
    "对图像滤波以增强图像的细节，便于检测到彩虹"
   ]
  },
  {
   "cell_type": "code",
   "id": "357f01ab",
   "metadata": {
    "ExecuteTime": {
     "end_time": "2024-09-10T13:07:19.336835Z",
     "start_time": "2024-09-10T13:07:19.243835Z"
    }
   },
   "source": [
    "detailEnhance_image = cv2.detailEnhance(image, sigma_s=100, sigma_r=0.1)"
   ],
   "outputs": [],
   "execution_count": 144
  },
  {
   "cell_type": "markdown",
   "id": "052cf2a9",
   "metadata": {},
   "source": [
    "由于彩虹中有**红色**，而图中其他元素没有，所以将图像转换为 *HSV* 颜色空间并利用颜色范围创建掩膜"
   ]
  },
  {
   "cell_type": "code",
   "id": "85424237",
   "metadata": {
    "ExecuteTime": {
     "end_time": "2024-09-10T13:07:19.697633Z",
     "start_time": "2024-09-10T13:07:19.692616Z"
    }
   },
   "source": [
    "hsv_image = cv2.cvtColor(detailEnhance_image, cv2.COLOR_BGR2HSV)\n",
    "# 设置彩虹的 HSV 颜色范围\n",
    "# 红色范围\n",
    "lower_rainbow = np.array([0, 65, 65])\n",
    "upper_rainbow = np.array([10, 200, 200])\n",
    "mask = cv2.inRange(hsv_image, lower_rainbow, upper_rainbow)"
   ],
   "outputs": [],
   "execution_count": 145
  },
  {
   "cell_type": "markdown",
   "id": "02be9f84",
   "metadata": {},
   "source": [
    "对图像应用 *canny* 边缘检测， 将边缘检测结果和上面的掩膜进行“与”操作，得到彩虹边缘。"
   ]
  },
  {
   "cell_type": "code",
   "id": "cd3d5e23",
   "metadata": {
    "ExecuteTime": {
     "end_time": "2024-09-10T13:07:20.152527Z",
     "start_time": "2024-09-10T13:07:20.132519Z"
    }
   },
   "source": [
    "# 将图像转换为灰度图像\n",
    "gray_image = cv2.cvtColor(detailEnhance_image, cv2.COLOR_BGR2GRAY)\n",
    "\n",
    "# 应用 Canny 边缘检测\n",
    "edges = cv2.Canny(gray_image, threshold1=50, threshold2=80)\n",
    "\n",
    "# 与掩膜进行逻辑与操作，提取彩虹的边缘\n",
    "edges_filtered = cv2.bitwise_and(edges, edges, mask=mask)"
   ],
   "outputs": [],
   "execution_count": 146
  },
  {
   "cell_type": "markdown",
   "id": "2e20109d",
   "metadata": {},
   "source": [
    "将图像转换为 *PIL* 图像，并定义中文文字和字体。"
   ]
  },
  {
   "cell_type": "code",
   "id": "9d829ae3",
   "metadata": {
    "ExecuteTime": {
     "end_time": "2024-09-10T13:07:20.639202Z",
     "start_time": "2024-09-10T13:07:20.617196Z"
    }
   },
   "source": [
    "# 将图像转换为 PIL 图像\n",
    "image_pil = Image.fromarray(cv2.cvtColor(image, cv2.COLOR_BGR2RGB))\n",
    "draw = ImageDraw.Draw(image_pil)\n",
    "\n",
    "# 定义中文文字和字体\n",
    "text = '这是一条彩虹'              # 要显示的中文文字\n",
    "font_path = 'simhei.ttf'  # 字体文件路径\n",
    "font_size = 40            # 字体大小\n",
    "font = ImageFont.truetype(font_path, font_size)\n",
    "font_color = (0, 255, 0)  # 字体颜色"
   ],
   "outputs": [],
   "execution_count": 147
  },
  {
   "cell_type": "markdown",
   "id": "e54b0143",
   "metadata": {},
   "source": [
    "**提取边缘坐标点**"
   ]
  },
  {
   "cell_type": "code",
   "id": "ec2cba7f",
   "metadata": {
    "ExecuteTime": {
     "end_time": "2024-09-10T13:07:21.295396Z",
     "start_time": "2024-09-10T13:07:21.287080Z"
    }
   },
   "source": [
    "edge_points = np.column_stack(np.where(edges_filtered > 0))\n",
    "sorted_edge_points = edge_points[edge_points[:, 1].argsort()]"
   ],
   "outputs": [],
   "execution_count": 148
  },
  {
   "cell_type": "code",
   "id": "fb783a52",
   "metadata": {
    "ExecuteTime": {
     "end_time": "2024-09-10T13:07:21.668433Z",
     "start_time": "2024-09-10T13:07:21.653452Z"
    }
   },
   "source": [
    "# 在边缘上插入中文文字\n",
    "i = 0\n",
    "for point in sorted_edge_points[::30]:  # 取样点减少文字数量\n",
    "    y, x = point\n",
    "    if i < len(text):  # 确保不会超出文本长度\n",
    "        draw.text((x, y), text[i], font=font, fill=font_color)\n",
    "        i += 1  # 递增 i，指向下一个字符\n",
    "    else:\n",
    "       i = 0  # 当所有文本绘制完成后跳出循环\n"
   ],
   "outputs": [],
   "execution_count": 149
  },
  {
   "cell_type": "code",
   "id": "9bef202e",
   "metadata": {
    "ExecuteTime": {
     "end_time": "2024-09-10T13:07:22.089159Z",
     "start_time": "2024-09-10T13:07:22.082162Z"
    }
   },
   "source": [
    "# 转换回 OpenCV 图像\n",
    "image_with_text = np.array(image_pil)\n",
    "image_with_text = cv2.cvtColor(image_with_text, cv2.COLOR_RGB2BGR)"
   ],
   "outputs": [],
   "execution_count": 150
  },
  {
   "cell_type": "code",
   "id": "791ecc1b",
   "metadata": {
    "ExecuteTime": {
     "end_time": "2024-09-10T13:07:38.174357Z",
     "start_time": "2024-09-10T13:07:22.426297Z"
    }
   },
   "source": [
    "# 显示结果\n",
    "cv2.imshow('edge', edges_filtered)\n",
    "cv2.imshow('Image with Text', image_with_text)\n",
    "cv2.waitKey(0)\n",
    "cv2.destroyAllWindows()"
   ],
   "outputs": [],
   "execution_count": 151
  },
  {
   "cell_type": "markdown",
   "id": "ba6ea04a",
   "metadata": {},
   "source": [
    "### 2.图像目标数数\n",
    "写程序自动算出图中鸟的个数"
   ]
  },
  {
   "cell_type": "code",
   "id": "2b9f1f09",
   "metadata": {
    "ExecuteTime": {
     "end_time": "2024-09-10T12:30:47.795118Z",
     "start_time": "2024-09-10T12:30:47.785116Z"
    }
   },
   "source": [
    "import cv2\n",
    "import numpy as np\n",
    "\n",
    "image = cv2.imread('birds.jpeg')"
   ],
   "outputs": [],
   "execution_count": 16
  },
  {
   "cell_type": "markdown",
   "id": "f4ca6dff",
   "metadata": {},
   "source": [
    "**双边滤波去噪**"
   ]
  },
  {
   "cell_type": "code",
   "id": "8a19e3a1",
   "metadata": {
    "ExecuteTime": {
     "end_time": "2024-09-10T12:30:48.695089Z",
     "start_time": "2024-09-10T12:30:48.665097Z"
    }
   },
   "source": [
    "filtered_image = cv2.bilateralFilter(image, d=9, sigmaColor=75, sigmaSpace=75)"
   ],
   "outputs": [],
   "execution_count": 17
  },
  {
   "cell_type": "markdown",
   "id": "a926de82",
   "metadata": {},
   "source": [
    "**将图像转换为 *HSV* 颜色空间**"
   ]
  },
  {
   "cell_type": "code",
   "id": "12ceaa5b",
   "metadata": {
    "ExecuteTime": {
     "end_time": "2024-09-10T12:30:49.842788Z",
     "start_time": "2024-09-10T12:30:49.831784Z"
    }
   },
   "source": [
    "hsv_image = cv2.cvtColor(filtered_image, cv2.COLOR_BGR2HSV)"
   ],
   "outputs": [],
   "execution_count": 18
  },
  {
   "cell_type": "markdown",
   "id": "3cf45272",
   "metadata": {},
   "source": [
    "**设置鸟的颜色范围并创建掩膜**"
   ]
  },
  {
   "cell_type": "code",
   "id": "d6966327",
   "metadata": {
    "ExecuteTime": {
     "end_time": "2024-09-10T12:30:50.990152Z",
     "start_time": "2024-09-10T12:30:50.976157Z"
    }
   },
   "source": [
    "# 设置鸟的黑色范围\n",
    "lower_black = np.array([0, 0, 0])\n",
    "upper_black = np.array([180, 255, 255])\n",
    "\n",
    "# 创建掩膜\n",
    "mask_black = cv2.inRange(hsv_image, lower_black, upper_black)\n",
    "\n",
    "# 设置鸟的黄色范围\n",
    "lower_yellow = np.array([26, 43, 46])\n",
    "upper_yellow = np.array([34, 255, 255])\n",
    "\n",
    "# 创建掩膜\n",
    "mask_yellow = cv2.inRange(hsv_image, lower_yellow, upper_yellow)\n",
    "\n",
    "# 合并掩膜\n",
    "mask = cv2.bitwise_or(mask_black, mask_yellow)"
   ],
   "outputs": [],
   "execution_count": 19
  },
  {
   "cell_type": "markdown",
   "id": "01a8c1a7",
   "metadata": {},
   "source": [
    "**使用 Canny 算子进行边缘检测，并与掩膜进行逻辑与操作，提取感兴趣区域的边缘**"
   ]
  },
  {
   "cell_type": "code",
   "id": "07014d17",
   "metadata": {
    "ExecuteTime": {
     "end_time": "2024-09-10T12:30:52.141848Z",
     "start_time": "2024-09-10T12:30:52.122858Z"
    }
   },
   "source": [
    "# 使用 Canny 算子进行边缘检测\n",
    "gray = cv2.cvtColor(filtered_image, cv2.COLOR_BGR2GRAY)\n",
    "edges = cv2.Canny(gray, 50, 150)\n",
    "\n",
    "# 与掩膜进行逻辑与操作，提取感兴趣区域的边缘\n",
    "edges_filtered = cv2.bitwise_and(edges, edges, mask=mask)"
   ],
   "outputs": [],
   "execution_count": 20
  },
  {
   "cell_type": "markdown",
   "id": "425207f7",
   "metadata": {},
   "source": [
    "**查找轮廓，设置轮廓面积阈值**"
   ]
  },
  {
   "cell_type": "code",
   "id": "5760b9c6",
   "metadata": {
    "ExecuteTime": {
     "end_time": "2024-09-10T12:30:53.191615Z",
     "start_time": "2024-09-10T12:30:53.169618Z"
    }
   },
   "source": [
    "# 查找轮廓\n",
    "contours, _ = cv2.findContours(edges_filtered, cv2.RETR_EXTERNAL, cv2.CHAIN_APPROX_SIMPLE)\n",
    "\n",
    "bird_count = 0\n",
    "min_area_threshold = 5  # 最小面积阈值，根据实际图片调整\n",
    "max_area_threshold = 80  # 最大面积阈值，避免过大物体被识别为鸟"
   ],
   "outputs": [],
   "execution_count": 21
  },
  {
   "cell_type": "markdown",
   "id": "158de3d6",
   "metadata": {},
   "source": [
    "**判断检测对象是否是鸟**"
   ]
  },
  {
   "cell_type": "code",
   "id": "2ce61b08",
   "metadata": {
    "ExecuteTime": {
     "end_time": "2024-09-10T12:30:54.130565Z",
     "start_time": "2024-09-10T12:30:54.118578Z"
    }
   },
   "source": [
    "for contour in contours:\n",
    "    area = cv2.contourArea(contour)\n",
    "\n",
    "    # 根据面积判断是否可能是鸟类\n",
    "    if min_area_threshold < area < max_area_threshold:\n",
    "        x, y, w, h = cv2.boundingRect(contour)\n",
    "        # 计算长宽比 (Aspect Ratio)\n",
    "        aspect_ratio = float(w) / h\n",
    "        if 0.5 < aspect_ratio < 2.0:  # 假设鸟的长宽比在 0.5 到 2.0 之间\n",
    "            # 画出识别到的鸟的边框\n",
    "            cv2.rectangle(image, (x, y), (x + w, y + h), (36, 255, 12), 1)\n",
    "            bird_count += 1"
   ],
   "outputs": [],
   "execution_count": 22
  },
  {
   "cell_type": "markdown",
   "id": "b6cebbce",
   "metadata": {},
   "source": [
    "**显示结果**"
   ]
  },
  {
   "cell_type": "code",
   "id": "9230a343",
   "metadata": {
    "ExecuteTime": {
     "end_time": "2024-09-10T12:32:43.337865Z",
     "start_time": "2024-09-10T12:32:29.859704Z"
    }
   },
   "source": [
    "print(f\"检测到 {bird_count} 只鸟。\")\n",
    "cv2.imshow('Birds Detected', image)\n",
    "cv2.waitKey(0)\n",
    "cv2.destroyAllWindows()"
   ],
   "outputs": [
    {
     "name": "stdout",
     "output_type": "stream",
     "text": [
      "检测到 68 只鸟。\n"
     ]
    }
   ],
   "execution_count": 24
  },
  {
   "metadata": {},
   "cell_type": "code",
   "outputs": [],
   "execution_count": null,
   "source": "",
   "id": "42e1f0e6545129d2"
  }
 ],
 "metadata": {
  "kernelspec": {
   "display_name": "Python 3",
   "language": "python",
   "name": "python3"
  },
  "language_info": {
   "codemirror_mode": {
    "name": "ipython",
    "version": 2
   },
   "file_extension": ".py",
   "mimetype": "text/x-python",
   "name": "python",
   "nbconvert_exporter": "python",
   "pygments_lexer": "ipython2",
   "version": "2.7.6"
  }
 },
 "nbformat": 4,
 "nbformat_minor": 5
}
