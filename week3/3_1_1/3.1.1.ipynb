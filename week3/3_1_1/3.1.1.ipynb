{
 "cells": [
  {
   "cell_type": "markdown",
   "id": "bacb41c6",
   "metadata": {},
   "source": [
    "1.图像转场动画"
   ]
  },
  {
   "cell_type": "code",
   "id": "39c6bc17",
   "metadata": {
    "ExecuteTime": {
     "end_time": "2024-09-10T12:52:12.544670Z",
     "start_time": "2024-09-10T12:52:12.205685Z"
    }
   },
   "source": [
    "import cv2\n",
    "import numpy as np\n",
    "import imageio\n",
    "import glob\n",
    "import os\n",
    "from PIL import Image, ImageDraw, ImageFont"
   ],
   "outputs": [],
   "execution_count": 2
  },
  {
   "cell_type": "code",
   "execution_count": 13,
   "id": "b0875aee",
   "metadata": {},
   "outputs": [],
   "source": [
    "# 调整图片大小函数\n",
    "def resize_image(image, size):\n",
    "    return cv2.resize(image, (size[1], size[0]))\n",
    "\n",
    "# 创建过渡帧的函数\n",
    "def create_transition_frames(image1, image2, transition_type, frames=30):\n",
    "    h, w, _ = image1.shape\n",
    "    transition_frames = []\n",
    "\n",
    "    # 3个转场类型\n",
    "    if transition_type == 'wipe_up':\n",
    "        for i in range(frames):\n",
    "            alpha = i / frames\n",
    "            mask = np.zeros((h, w), dtype=np.uint8)\n",
    "            cv2.rectangle(mask, (0, 0), (w, int(h * (1 - alpha))), 255, -1)  # 从上到下\n",
    "            frame = cv2.bitwise_and(image1, image1, mask=cv2.bitwise_not(mask))\n",
    "            frame += cv2.bitwise_and(image2, image2, mask=mask)\n",
    "            transition_frames.append(frame)\n",
    "    elif transition_type == 'wipe_down':\n",
    "        for i in range(frames):\n",
    "            alpha = i / frames\n",
    "            mask = np.zeros((h, w), dtype=np.uint8)\n",
    "            cv2.rectangle(mask, (0, int(h * alpha)), (w, h), 255, -1)  # 从下到上\n",
    "            frame = cv2.bitwise_and(image1, image1, mask=cv2.bitwise_not(mask))\n",
    "            frame += cv2.bitwise_and(image2, image2, mask=mask)\n",
    "            transition_frames.append(frame)\n",
    "    elif transition_type == 'rotate':\n",
    "        for i in range(frames):\n",
    "            alpha = i / frames\n",
    "            M = cv2.getRotationMatrix2D((w / 2, h / 2), alpha * 360, 1)\n",
    "            rotated_image1 = cv2.warpAffine(image1, M, (w, h))\n",
    "            rotated_image2 = cv2.warpAffine(image2, M, (w, h))\n",
    "            frame = cv2.addWeighted(rotated_image1, 1 - alpha, rotated_image2, alpha, 0)\n",
    "            transition_frames.append(frame)\n",
    "\n",
    "    return transition_frames\n",
    "\n",
    "# 保存 GIF 动画\n",
    "def save_gif(frames, save_path, fps=10):\n",
    "    with imageio.get_writer(save_path, mode='I', fps=fps) as writer:\n",
    "        for frame in frames:\n",
    "            writer.append_data(cv2.cvtColor(frame, cv2.COLOR_BGR2RGB))\n",
    "\n",
    "def main():\n",
    "    # 查找 JPG 文件\n",
    "    image_files = sorted(glob.glob('*.jpg'))\n",
    "    if len(image_files) < 2:\n",
    "        raise ValueError('至少需要两张图片')\n",
    "\n",
    "    image1 = cv2.imread(image_files[0])\n",
    "    image2 = cv2.imread(image_files[1])\n",
    "    \n",
    "    # 确保两张图片大小一致\n",
    "    if image1.shape != image2.shape:\n",
    "        h, w, _ = min(image1.shape[0], image2.shape[0]), min(image1.shape[1], image2.shape[1]), 3\n",
    "        image1 = resize_image(image1, (h, w))\n",
    "        image2 = resize_image(image2, (h, w))\n",
    "\n",
    "    transition_type = 'rotate'  # 还有 'wipe_down' 或 'rotate'\n",
    "    frames = create_transition_frames(image1, image2, transition_type)\n",
    "\n",
    "    save_gif(frames, 'transition_animation.gif')\n",
    "\n",
    "if __name__ == '__main__':\n",
    "    main()\n"
   ]
  },
  {
   "cell_type": "markdown",
   "id": "35172ffc",
   "metadata": {},
   "source": [
    "2.滚动字幕"
   ]
  },
  {
   "cell_type": "code",
   "execution_count": 13,
   "id": "b02e541f",
   "metadata": {},
   "outputs": [
    {
     "name": "stdout",
     "output_type": "stream",
     "text": [
      "滚动字幕GIF已保存到 scrolling_text.gif\n"
     ]
    }
   ],
   "source": [
    "# 设置参数\n",
    "image_path = 'input_image1.jpg'  \n",
    "output_gif = 'scrolling_text.gif'  \n",
    "text = '这是滚动的字幕，文字从右到左滚动显示。'  # 要滚动的文字\n",
    "font_path = 'simsun.ttc'  # 字体路径\n",
    "font_size = 30  # 字体大小\n",
    "fps = 30  # 帧率\n",
    "scroll_speed = 10  # 滚动速度（越大滚动越慢）\n",
    "image_width = 400  # 输出图像宽度\n",
    "image_height = 400  # 输出图像高度\n",
    "\n",
    "# 读取背景图像\n",
    "bg_image = cv2.imread(image_path)\n",
    "bg_image = cv2.cvtColor(bg_image, cv2.COLOR_BGR2RGB)  # 确保图像颜色是 RGB\n",
    "bg_image = cv2.resize(bg_image, (image_width, image_height))\n",
    "\n",
    "# 使用Pillow创建滚动文本\n",
    "def create_text_image(text, font_size):\n",
    "    font = ImageFont.truetype(font_path, font_size)\n",
    "    # 使用 getbbox 计算文本的边界框\n",
    "    bbox = font.getbbox(text)\n",
    "    text_width = bbox[2] - bbox[0]\n",
    "    text_height = bbox[3] - bbox[1]\n",
    "    image = Image.new('RGBA', (text_width, text_height), (255, 255, 255, 0))  # 使用 RGBA \n",
    "    draw = ImageDraw.Draw(image)\n",
    "    draw.text((0, 0), text, font=font, fill=(0, 0, 0, 255))  # 添加 alpha 值\n",
    "    return image\n",
    "\n",
    "# 创建滚动字幕\n",
    "text_image = create_text_image(text, font_size)\n",
    "\n",
    "# GIF帧列表\n",
    "frames = []\n",
    "\n",
    "# 滚动字幕效果\n",
    "for i in range(-text_image.width, image_width, scroll_speed):\n",
    "    frame = bg_image.copy()\n",
    "    frame_pil = Image.fromarray(frame)\n",
    "    # 将背景图像转换为 'RGBA' \n",
    "    frame_pil = frame_pil.convert('RGBA')\n",
    "    # 计算掩模\n",
    "    mask = text_image.convert('L')\n",
    "    # 粘贴文本图像\n",
    "    frame_pil.paste(text_image, (image_width - text_image.width - i, image_height - text_image.height), mask=mask)\n",
    "    frames.append(np.array(frame_pil))\n",
    "\n",
    "# 保存为GIF\n",
    "imageio.mimsave(output_gif, frames, fps=fps)\n",
    "\n",
    "print(f\"滚动字幕GIF已保存到 {output_gif}\")\n"
   ]
  },
  {
   "cell_type": "markdown",
   "id": "f76bc45c",
   "metadata": {},
   "source": [
    "3.1前景目标在背景中移动"
   ]
  },
  {
   "cell_type": "code",
   "id": "5e486bf0",
   "metadata": {
    "ExecuteTime": {
     "end_time": "2024-09-10T12:55:03.599250Z",
     "start_time": "2024-09-10T12:54:57.691557Z"
    }
   },
   "source": [
    "# 读取图像\n",
    "image_path = 'input_image1.jpg'\n",
    "image = cv2.imread(image_path)\n",
    "height, width = image.shape[:2]\n",
    "\n",
    "# 定义掩码和模型\n",
    "mask = np.zeros((height, width), np.uint8)\n",
    "bg_model = np.zeros((1, 65), np.float64)\n",
    "fg_model = np.zeros((1, 65), np.float64)\n",
    "\n",
    "# 3. 定义前景区域\n",
    "# 手动选择矩形区域\n",
    "r = cv2.selectROI(\"Select ROI\", image, fromCenter=False, showCrosshair=True)\n",
    "\n",
    "# 关闭窗口\n",
    "cv2.destroyWindow(\"Select ROI\")\n",
    "\n",
    "# 获取矩形的坐标和尺寸\n",
    "x, y, w, h = r\n",
    "print(f\"Selected region: x={x}, y={y}, width={w}, height={h}\")\n",
    "\n",
    "# 使用选择的矩形区域进行前景分割\n",
    "rect = (x, y, x+w, y+h)\n",
    "\n",
    "# 提取前景\n",
    "cv2.grabCut(image, mask, rect, bg_model, fg_model, 5, cv2.GC_INIT_WITH_RECT)\n",
    "\n",
    "# 将前景和背景分离\n",
    "mask2 = np.where((mask == 2) | (mask == 0), 0, 1).astype('uint8')\n",
    "foreground = image * mask2[:, :, np.newaxis]\n",
    "\n",
    "# 创建动画效果\n",
    "num_frames = 20\n",
    "gif_images = []\n",
    "\n",
    "for i in range(num_frames):\n",
    "    shift = (i * 10) % width  # Move by 10 pixels per frame, adjust as needed\n",
    "    \n",
    "    # 将前景目标从背景中扣除\n",
    "    background_without_foreground = image.copy()\n",
    "    background_without_foreground[mask2 == 1] = [232, 163, 0]\n",
    "    \n",
    "    # 移动前景目标\n",
    "    translation_matrix = np.float32([[1, 0, shift], [0, 1, 0]])\n",
    "    shifted_foreground = cv2.warpAffine(foreground, translation_matrix, (width, height))\n",
    "    \n",
    "    # 合成背景和移动的前景\n",
    "    result = np.where(shifted_foreground > 0, shifted_foreground, background_without_foreground)\n",
    "    \n",
    "    gif_images.append(Image.fromarray(cv2.cvtColor(result, cv2.COLOR_BGR2RGB)))\n",
    "\n",
    "# 保存为 GIF 动画\n",
    "gif_path = 'animated_foreground.gif'\n",
    "gif_images[0].save(gif_path, save_all=True, append_images=gif_images[1:], duration=100, loop=0)\n",
    "\n",
    "print(f\"GIF 动画已保存为: {gif_path}\")\n"
   ],
   "outputs": [
    {
     "name": "stdout",
     "output_type": "stream",
     "text": [
      "Selected region: x=1, y=11, width=363, height=463\n",
      "GIF 动画已保存为: animated_foreground.gif\n"
     ]
    }
   ],
   "execution_count": 6
  },
  {
   "cell_type": "markdown",
   "id": "c3d35006",
   "metadata": {},
   "source": [
    "3.2前景目标局部运动的动画图像(挥手)"
   ]
  },
  {
   "cell_type": "code",
   "id": "d60c1604",
   "metadata": {
    "ExecuteTime": {
     "end_time": "2024-09-10T13:48:23.581584Z",
     "start_time": "2024-09-10T13:48:18.485556Z"
    }
   },
   "source": [
    "\n",
    "# 读取图像\n",
    "image_path = 'input_image1.jpg'\n",
    "image = cv2.imread(image_path)\n",
    "height, width = image.shape[:2]\n",
    "\n",
    "# 创建掩码和模型\n",
    "mask = np.zeros((height, width), np.uint8)\n",
    "bg_model = np.zeros((1, 65), np.float64)\n",
    "fg_model = np.zeros((1, 65), np.float64)\n",
    "\n",
    "# 定义前景区域\n",
    "# 手动选择矩形区域\n",
    "r = cv2.selectROI(\"Select ROI\", image, fromCenter=False, showCrosshair=True)\n",
    "\n",
    "# 关闭窗口\n",
    "cv2.destroyWindow(\"Select ROI\")\n",
    "\n",
    "# 获取矩形的坐标和尺寸\n",
    "x, y, w, h = r\n",
    "print(f\"Selected region: x={x}, y={y}, width={w}, height={h}\")\n",
    "\n",
    "# 前景分割\n",
    "rect = (x, y, x+w, y+h)\n",
    "\n",
    "# 提取前景\n",
    "cv2.grabCut(image, mask, rect, bg_model, fg_model, 5, cv2.GC_INIT_WITH_RECT)\n",
    "\n",
    "# 创建前景和背景图像\n",
    "mask2 = np.where((mask == 2) | (mask == 0), 0, 1).astype('uint8')\n",
    "foreground = image * mask2[:, :, np.newaxis]\n",
    "background = image.copy()\n",
    "background[mask2 == 1] = 0\n",
    "\n",
    "# 定义旋转中心为矩形的右上角\n",
    "rotation_center_x = x + w - 1\n",
    "rotation_center_y = y\n",
    "\n",
    "# 创建挥手动画效果\n",
    "num_frames = 20\n",
    "gif_images = []\n",
    "rotation_angle_range = 30  # 最大旋转角度\n",
    "rotation_step = 2  # 每帧旋转步长\n",
    "\n",
    "# 手部区域在前景图中的位置\n",
    "hand_x, hand_y, hand_w, hand_h = x, y, w, h\n",
    "\n",
    "for i in range(num_frames):\n",
    "    # 计算当前帧的旋转角度\n",
    "    angle = rotation_angle_range * np.sin(i * 2 * np.pi / num_frames)\n",
    "    \n",
    "    # 创建旋转矩阵\n",
    "    rotation_matrix = cv2.getRotationMatrix2D((rotation_center_x - hand_x, rotation_center_y - hand_y), angle, 1)\n",
    "    \n",
    "    # 执行旋转\n",
    "    rotated_hand_area = cv2.warpAffine(foreground[hand_y:hand_y+hand_h, hand_x:hand_x+hand_w], \n",
    "                                       rotation_matrix, (hand_w, hand_h))\n",
    "    \n",
    "    # 将旋转后的手部区域合成到前景中\n",
    "    rotated_foreground = foreground.copy()\n",
    "    rotated_foreground[hand_y:hand_y+hand_h, hand_x:hand_x+hand_w] = rotated_hand_area\n",
    "    \n",
    "    # 合成背景和旋转后的前景\n",
    "    result = background + rotated_foreground\n",
    "    \n",
    "   # 查找所有三个通道都是0的像素位置（即黑色像素）\n",
    "    black_pixels = (result[:, :, 0] == 0) & (result[:, :, 1] == 0) & (result[:, :, 2] == 0)\n",
    "    \n",
    "    # 将这些像素的颜色改为深橙色 [232, 163, 0]\n",
    "    result[black_pixels] = [232, 163, 0]\n",
    "    \n",
    "    # 转换为PIL图像并添加到GIF图像列表\n",
    "    gif_images.append(Image.fromarray(cv2.cvtColor(result, cv2.COLOR_BGR2RGB)))\n",
    "\n",
    "# 保存为GIF动画\n",
    "gif_path = 'hand_wave_animation.gif'\n",
    "gif_images[0].save(gif_path, save_all=True, append_images=gif_images[1:], duration=100, loop=0)\n",
    "\n",
    "print(f\"GIF 动画已保存为: {gif_path}\")\n"
   ],
   "outputs": [
    {
     "name": "stdout",
     "output_type": "stream",
     "text": [
      "Selected region: x=22, y=393, width=56, height=71\n",
      "GIF 动画已保存为: hand_wave_animation.gif\n"
     ]
    }
   ],
   "execution_count": 32
  },
  {
   "metadata": {
    "ExecuteTime": {
     "end_time": "2024-09-10T13:41:12.763803Z",
     "start_time": "2024-09-10T13:41:12.748800Z"
    }
   },
   "cell_type": "code",
   "source": "",
   "id": "f3c902e9f7c46447",
   "outputs": [],
   "execution_count": 22
  },
  {
   "metadata": {},
   "cell_type": "code",
   "outputs": [],
   "execution_count": null,
   "source": "",
   "id": "22cc42615afc3262"
  }
 ],
 "metadata": {
  "kernelspec": {
   "display_name": "Python 3 (ipykernel)",
   "language": "python",
   "name": "python3"
  },
  "language_info": {
   "codemirror_mode": {
    "name": "ipython",
    "version": 3
   },
   "file_extension": ".py",
   "mimetype": "text/x-python",
   "name": "python",
   "nbconvert_exporter": "python",
   "pygments_lexer": "ipython3",
   "version": "3.9.13"
  }
 },
 "nbformat": 4,
 "nbformat_minor": 5
}
