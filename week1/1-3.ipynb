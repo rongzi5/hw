{
 "cells": [
  {
   "cell_type": "code",
   "id": "initial_id",
   "metadata": {
    "collapsed": true,
    "ExecuteTime": {
     "end_time": "2024-08-25T09:19:22.496770Z",
     "start_time": "2024-08-25T09:19:11.631592Z"
    }
   },
   "source": [
    "import cv2\n",
    "import numpy as np\n",
    "import tkinter as tk\n",
    "from tkinter import messagebox\n",
    "root = tk.Tk()\n",
    "root.withdraw()\n",
    "\n",
    "\n",
    "#定义全局参数\n",
    "history = [] #保存历史绘制记录\n",
    "max_history_count = 3 #最大历史绘制记录此时为3次\n",
    "drawing = False\n",
    "ix ,iy = -1, -1\n",
    "eraser_img = None\n",
    "\n",
    "#加载图像\n",
    "file_path = './resource/cat.jpg'\n",
    "ori_img = cv2.imread(file_path)\n",
    "if ori_img is None:\n",
    "    print('Error! the image cannot be opened!')\n",
    "    exit()\n",
    "\n",
    "def eraser(event, x, y, flags, param):\n",
    "    brushSize = param\n",
    "    global ix ,iy,eraser_img,history,max_history_count,drawing\n",
    "    if event == cv2.EVENT_LBUTTONDOWN:\n",
    "        drawing = True\n",
    "        ix,iy = x,y\n",
    "        if len(history) > max_history_count:\n",
    "            history.pop(0)\n",
    "        history.append(eraser_img.copy())\n",
    "    elif event == cv2.EVENT_MOUSEMOVE:\n",
    "        if drawing:\n",
    "            cv2.circle(eraser_img,(x,y),brushSize,(255,255,255),-1)\n",
    "    elif event == cv2.EVENT_LBUTTONUP:\n",
    "        drawing = False\n",
    "\n",
    "def undo():\n",
    "    global history,eraser_img\n",
    "    if history:\n",
    "        eraser_img = history.pop()\n",
    "\n",
    "eraser_img = ori_img.copy()\n",
    "#设置窗口\n",
    "cv2.namedWindow('Eraser',cv2.WINDOW_NORMAL)\n",
    "brush_size = 10 #笔刷初始大小\n",
    "cv2.createTrackbar('BushSize', 'Eraser',brush_size,50, lambda x: None)\n",
    "\n",
    "\n",
    "while True:\n",
    "    brush_size = cv2.getTrackbarPos('BushSize', 'Eraser')\n",
    "    cv2.setMouseCallback('Eraser',eraser,brush_size)\n",
    "    combined_image = np.hstack((ori_img,eraser_img))\n",
    "    cv2.imshow('Eraser',combined_image)\n",
    "    \n",
    "    key = cv2.waitKey(1) & 0xFF\n",
    "    if key == ord('u') or key == ord('U'):\n",
    "        undo()\n",
    "    elif key == 27:\n",
    "        break\n",
    "    elif key == ord('s') or key == ord('S'):\n",
    "        save_path = './output/Eraser.jpg'\n",
    "        cv2.imwrite(save_path,eraser_img)\n",
    "        messagebox.showinfo('information','Eraser saved successfully!')\n",
    "        \n",
    "cv2.destroyAllWindows()"
   ],
   "outputs": [
    {
     "ename": "error",
     "evalue": "OpenCV(4.10.0) D:\\a\\opencv-python\\opencv-python\\opencv\\modules\\highgui\\src\\window_w32.cpp:2561: error: (-27:Null pointer) NULL window: 'Eraser' in function 'cvGetTrackbarPos'\n",
     "output_type": "error",
     "traceback": [
      "\u001B[1;31m---------------------------------------------------------------------------\u001B[0m",
      "\u001B[1;31merror\u001B[0m                                     Traceback (most recent call last)",
      "Cell \u001B[1;32mIn[8], line 51\u001B[0m\n\u001B[0;32m     47\u001B[0m cv2\u001B[38;5;241m.\u001B[39mcreateTrackbar(\u001B[38;5;124m'\u001B[39m\u001B[38;5;124mBushSize\u001B[39m\u001B[38;5;124m'\u001B[39m, \u001B[38;5;124m'\u001B[39m\u001B[38;5;124mEraser\u001B[39m\u001B[38;5;124m'\u001B[39m,brush_size,\u001B[38;5;241m50\u001B[39m, \u001B[38;5;28;01mlambda\u001B[39;00m x: \u001B[38;5;28;01mNone\u001B[39;00m)\n\u001B[0;32m     50\u001B[0m \u001B[38;5;28;01mwhile\u001B[39;00m \u001B[38;5;28;01mTrue\u001B[39;00m:\n\u001B[1;32m---> 51\u001B[0m     brush_size \u001B[38;5;241m=\u001B[39m \u001B[43mcv2\u001B[49m\u001B[38;5;241;43m.\u001B[39;49m\u001B[43mgetTrackbarPos\u001B[49m\u001B[43m(\u001B[49m\u001B[38;5;124;43m'\u001B[39;49m\u001B[38;5;124;43mBushSize\u001B[39;49m\u001B[38;5;124;43m'\u001B[39;49m\u001B[43m,\u001B[49m\u001B[43m \u001B[49m\u001B[38;5;124;43m'\u001B[39;49m\u001B[38;5;124;43mEraser\u001B[39;49m\u001B[38;5;124;43m'\u001B[39;49m\u001B[43m)\u001B[49m\n\u001B[0;32m     52\u001B[0m     cv2\u001B[38;5;241m.\u001B[39msetMouseCallback(\u001B[38;5;124m'\u001B[39m\u001B[38;5;124mEraser\u001B[39m\u001B[38;5;124m'\u001B[39m,eraser,brush_size)\n\u001B[0;32m     53\u001B[0m     combined_image \u001B[38;5;241m=\u001B[39m np\u001B[38;5;241m.\u001B[39mhstack((ori_img,eraser_img))\n",
      "\u001B[1;31merror\u001B[0m: OpenCV(4.10.0) D:\\a\\opencv-python\\opencv-python\\opencv\\modules\\highgui\\src\\window_w32.cpp:2561: error: (-27:Null pointer) NULL window: 'Eraser' in function 'cvGetTrackbarPos'\n"
     ]
    }
   ],
   "execution_count": 8
  },
  {
   "metadata": {
    "ExecuteTime": {
     "end_time": "2024-08-25T09:18:35.890025Z",
     "start_time": "2024-08-25T09:18:33.943449Z"
    }
   },
   "cell_type": "code",
   "source": "",
   "id": "bf8fe683e4db698d",
   "outputs": [],
   "execution_count": 5
  },
  {
   "metadata": {},
   "cell_type": "code",
   "outputs": [],
   "execution_count": null,
   "source": "",
   "id": "224c5bdc285476a0"
  }
 ],
 "metadata": {
  "kernelspec": {
   "display_name": "Python 3",
   "language": "python",
   "name": "python3"
  },
  "language_info": {
   "codemirror_mode": {
    "name": "ipython",
    "version": 2
   },
   "file_extension": ".py",
   "mimetype": "text/x-python",
   "name": "python",
   "nbconvert_exporter": "python",
   "pygments_lexer": "ipython2",
   "version": "2.7.6"
  }
 },
 "nbformat": 4,
 "nbformat_minor": 5
}
