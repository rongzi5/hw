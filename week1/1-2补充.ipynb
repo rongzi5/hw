{
 "cells": [
  {
   "cell_type": "code",
   "id": "initial_id",
   "metadata": {
    "collapsed": true,
    "ExecuteTime": {
     "end_time": "2024-08-28T07:07:02.223660Z",
     "start_time": "2024-08-28T07:07:02.014659Z"
    }
   },
   "source": [
    "import numpy as np\n",
    "\n",
    "# Load the skeleton data from the uploaded .npy file\n",
    "file_path = './resource/brushing_hair.npy'\n",
    "skeleton_data = np.load(file_path)\n",
    "\n",
    "# Display the shape of the data to understand its structure\n",
    "skeleton_data.shape\n"
   ],
   "outputs": [
    {
     "data": {
      "text/plain": [
       "(99, 25, 3)"
      ]
     },
     "execution_count": 1,
     "metadata": {},
     "output_type": "execute_result"
    }
   ],
   "execution_count": 1
  },
  {
   "metadata": {
    "ExecuteTime": {
     "end_time": "2024-08-28T09:09:16.422909Z",
     "start_time": "2024-08-28T09:09:16.175687Z"
    }
   },
   "cell_type": "code",
   "source": [
    "import numpy as np\n",
    "import matplotlib.pyplot as plt\n",
    "%matplotlib qt\n",
    "# 关节点编号映射\n",
    "joint_names = {\n",
    "    \"1\": \"base of the spine\", \"2\": \"middle of the spine\", \"3\": \"neck\", \"4\": \"head\",\n",
    "    \"5\": \"left shoulder\", \"6\": \"left elbow\", \"7\": \"left wrist\", \"8\": \"left hand\",\n",
    "    \"9\": \"right shoulder\", \"10\": \"right elbow\", \"11\": \"right wrist\", \"12\": \"right hand\",\n",
    "    \"13\": \"left hip\", \"14\": \"left knee\", \"15\": \"left ankle\", \"16\": \"left foot\",\n",
    "    \"17\": \"right hip\", \"18\": \"right knee\", \"19\": \"right ankle\", \"20\": \"right foot\",\n",
    "    \"21\": \"spine\", \"22\": \"tip of the left hand\", \"23\": \"left thumb\", \"24\": \"tip of the right hand\", \"25\": \"right thumb\"\n",
    "}\n",
    "\n",
    "# 加载骨架数据\n",
    "file_path = './resource/brushing_hair.npy'\n",
    "skeleton_data = np.load(file_path)\n",
    "\n",
    "# 定义骨架连接\n",
    "connections = [\n",
    "    (1, 2), (2, 21), (21, 3), (3, 4), # spine and head\n",
    "    (3, 5), (5, 6), (6, 7), (7, 8), # left arm\n",
    "    (3, 9), (9, 10), (10, 11), (11, 12), # right arm\n",
    "    (1, 13), (13, 14), (14, 15), (15, 16), # left leg\n",
    "    (1, 17), (17, 18), (18, 19), (19, 20) # right leg\n",
    "]\n",
    "\n",
    "def plot_skeleton(frame_data, ax):\n",
    "    # 绘制骨架连接\n",
    "    for (start, end) in connections:\n",
    "        start_point = frame_data[start - 1] # 将索引从1-25转换为0-24\n",
    "        end_point = frame_data[end - 1]\n",
    "        ax.plot([start_point[0], end_point[0]], [start_point[1], end_point[1]], [start_point[2], end_point[2]], 'bo-')\n",
    "\n",
    "def visualize_skeleton(skeleton_data, frames):\n",
    "    fig = plt.figure()\n",
    "    ax = fig.add_subplot(111, projection='3d')\n",
    "\n",
    "    for frame in frames:\n",
    "        frame_data = skeleton_data[frame]\n",
    "        plot_skeleton(frame_data, ax)\n",
    "    \n",
    "    ax.set_xlabel('X')\n",
    "    ax.set_ylabel('Y')\n",
    "    ax.set_zlabel('Z')\n",
    "    plt.show()\n",
    "\n",
    "#在这里输入要查看的帧数\n",
    "frame_to_visualise = [0,10,20,30,40,50]\n",
    "\n",
    "# 可视化\n",
    "visualize_skeleton(skeleton_data, frame_to_visualise)\n"
   ],
   "id": "ec43048f5cecbd96",
   "outputs": [],
   "execution_count": 18
  },
  {
   "metadata": {},
   "cell_type": "code",
   "outputs": [],
   "execution_count": null,
   "source": "",
   "id": "f0f040261d78d4be"
  }
 ],
 "metadata": {
  "kernelspec": {
   "display_name": "Python 3",
   "language": "python",
   "name": "python3"
  },
  "language_info": {
   "codemirror_mode": {
    "name": "ipython",
    "version": 2
   },
   "file_extension": ".py",
   "mimetype": "text/x-python",
   "name": "python",
   "nbconvert_exporter": "python",
   "pygments_lexer": "ipython2",
   "version": "2.7.6"
  }
 },
 "nbformat": 4,
 "nbformat_minor": 5
}
