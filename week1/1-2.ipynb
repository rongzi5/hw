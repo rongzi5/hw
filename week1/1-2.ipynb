{
 "cells": [
  {
   "metadata": {},
   "cell_type": "markdown",
   "source": [
    "1. 输入张量 pos 的结构\n",
    "pos 是一个形状为 (b, s, 3) 的张量，\n",
    "2. 定义插值参数\n",
    "通过将 s 除以 2 得到 half，即 half = s / 2，其值为 75。这将用于控制线性插值的范围。\n",
    "3. 创建 fade_out 和 fade_in 张量\n",
    "fade_out 和 fade_in 用于存储线性渐变权重。它们将用于对 pos 张量中的元素进行权重调整。\n",
    "fade_out 的前半部分保持为 1，后半部分从 1 线性插值到 0。fade_in 的前半部分从 0 线性插值到 1，后半部分保持为 1。\n",
    "4. 对 pos 张量进行权重调整\n",
    "pos[:-1] *= fade_out：对 pos 的每个切片（除了最后一个）乘以 fade_out，这会使得每个切片的后半部分逐渐减弱。\n",
    "pos[1:] *= fade_in：对 pos 的每个切片（除了第一个）乘以 fade_in，这会使得每个切片的前半部分逐渐增强。\n",
    "5. 生成并填充 full_pos 张量\n",
    "full_pos 是一个形状为 (s + half*(b - 1), 3) 的零张量，它的长度比 pos 的每个切片要长，以容纳多个拼接后的 pos 切片。\n",
    "使用一个 for 循环遍历 pos 中的每个切片 pos_slice，并将其依次叠加到 full_pos 中，逐步填充 full_pos 张量。\n",
    "在填充过程中，idx 用于跟踪在 full_pos 中当前填充的位置，每次填充后 idx 增加 half，这确保了每个切片部分重叠拼接"
   ],
   "id": "1b60df3ca3cea7b5"
  }
 ],
 "metadata": {
  "kernelspec": {
   "display_name": "Python 3",
   "language": "python",
   "name": "python3"
  },
  "language_info": {
   "codemirror_mode": {
    "name": "ipython",
    "version": 2
   },
   "file_extension": ".py",
   "mimetype": "text/x-python",
   "name": "python",
   "nbconvert_exporter": "python",
   "pygments_lexer": "ipython2",
   "version": "2.7.6"
  }
 },
 "nbformat": 4,
 "nbformat_minor": 5
}
